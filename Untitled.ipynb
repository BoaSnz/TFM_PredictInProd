{
 "cells": [
  {
   "cell_type": "code",
   "execution_count": 38,
   "id": "e244d8cc",
   "metadata": {
    "scrolled": true
   },
   "outputs": [],
   "source": [
    "dict = {\"key\": \"2013-07-06 17:18:00.000000119\",\n",
    "\"pickup_datetime\": str(\"qregqreg\"),\n",
    "\"pickup_longitude\": float(\"146\"),\n",
    "\"pickup_latitude\": float(\"5126\"),\n",
    "\"dropoff_longitude\": float(\"5516\"),\n",
    "\"dropoff_latitude\": float(\"1515\"),\n",
    "\"passenger_count\": int(\"3\")}\n",
    "X = pd.DataFrame()\n",
    "for key,value in dict.items():\n",
    "    X[key]=[value]"
   ]
  },
  {
   "cell_type": "code",
   "execution_count": 40,
   "id": "409be5b8",
   "metadata": {},
   "outputs": [
    {
     "data": {
      "text/plain": [
       "key                   object\n",
       "pickup_datetime       object\n",
       "pickup_longitude     float64\n",
       "pickup_latitude      float64\n",
       "dropoff_longitude    float64\n",
       "dropoff_latitude     float64\n",
       "passenger_count        int64\n",
       "dtype: object"
      ]
     },
     "execution_count": 40,
     "metadata": {},
     "output_type": "execute_result"
    }
   ],
   "source": [
    "X.dtypes"
   ]
  }
 ],
 "metadata": {
  "kernelspec": {
   "display_name": "Python 3 (ipykernel)",
   "language": "python",
   "name": "python3"
  },
  "language_info": {
   "codemirror_mode": {
    "name": "ipython",
    "version": 3
   },
   "file_extension": ".py",
   "mimetype": "text/x-python",
   "name": "python",
   "nbconvert_exporter": "python",
   "pygments_lexer": "ipython3",
   "version": "3.8.12"
  },
  "toc": {
   "base_numbering": 1,
   "nav_menu": {},
   "number_sections": true,
   "sideBar": true,
   "skip_h1_title": false,
   "title_cell": "Table of Contents",
   "title_sidebar": "Contents",
   "toc_cell": false,
   "toc_position": {},
   "toc_section_display": true,
   "toc_window_display": false
  }
 },
 "nbformat": 4,
 "nbformat_minor": 5
}
